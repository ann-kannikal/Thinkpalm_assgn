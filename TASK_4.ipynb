{
 "cells": [
  {
   "cell_type": "markdown",
   "id": "84ac82ec-0318-4b84-ae05-45b5a9964e0a",
   "metadata": {},
   "source": [
    "TASK 4- Write a python function"
   ]
  },
  {
   "cell_type": "code",
   "execution_count": 29,
   "id": "9779434a-a3db-4e0d-80e6-275e5faf11d4",
   "metadata": {},
   "outputs": [],
   "source": [
    "#Function to find the longest substring without repeating characters\n",
    "def longest_substr(input_string):\n",
    "    length=0\n",
    "    for i in range(len(input_string)):\n",
    "        repeated_char= set()\n",
    "        for j in range(i, len(input_string)):\n",
    "            if input_string[j] in repeated_char:\n",
    "                break\n",
    "            repeated_char.add(input_string[j])\n",
    "        length= max(length, j-i)\n",
    "    return length\n"
   ]
  },
  {
   "cell_type": "code",
   "execution_count": 30,
   "id": "5746b3ee-9bf7-45fa-902c-0b874bb5208b",
   "metadata": {},
   "outputs": [
    {
     "data": {
      "text/plain": [
       "7"
      ]
     },
     "execution_count": 30,
     "metadata": {},
     "output_type": "execute_result"
    }
   ],
   "source": [
    "input_string= \"beautiful\"\n",
    "longest_substr(input_string)   #output returns the number 7 "
   ]
  },
  {
   "cell_type": "code",
   "execution_count": 25,
   "id": "b56b0966-765d-42ba-9504-4091c230ac0f",
   "metadata": {},
   "outputs": [],
   "source": [
    "# A more optimised function\n",
    "\n",
    "# This approach makes sure that each charcter is processed only once, reducing the time taken. This algorithm runs in linear time.\n",
    "def longest_substr(input_string):\n",
    "    start=0\n",
    "    length=0\n",
    "    repeated_char= {}\n",
    "    for i, char in enumerate(input_string):\n",
    "        #enumerate function helps us add a counter(starting from 0) to each item in a string or list so that we can loop through it\n",
    "        if char in repeated_char and start <= repeated_char[char]:\n",
    "            start= repeated_char[char]+1    #update the start position if we encounter a repeated character\n",
    "        #go to else block if repeated character is not repeated\n",
    "        else: \n",
    "            length= max(length, i-start+1)\n",
    "        repeated_char[char]=i\n",
    "    return length\n",
    "        "
   ]
  },
  {
   "cell_type": "code",
   "execution_count": 28,
   "id": "0f349436-487c-4cd8-9d59-f004170a320b",
   "metadata": {},
   "outputs": [
    {
     "data": {
      "text/plain": [
       "7"
      ]
     },
     "execution_count": 28,
     "metadata": {},
     "output_type": "execute_result"
    }
   ],
   "source": [
    "input_string= \"beautiful\"\n",
    "longest_substr(input_string)   "
   ]
  },
  {
   "cell_type": "code",
   "execution_count": null,
   "id": "5aa024ad-7c16-40c3-ba98-bcdce8ddf870",
   "metadata": {},
   "outputs": [],
   "source": []
  }
 ],
 "metadata": {
  "kernelspec": {
   "display_name": "Python 3 (ipykernel)",
   "language": "python",
   "name": "python3"
  },
  "language_info": {
   "codemirror_mode": {
    "name": "ipython",
    "version": 3
   },
   "file_extension": ".py",
   "mimetype": "text/x-python",
   "name": "python",
   "nbconvert_exporter": "python",
   "pygments_lexer": "ipython3",
   "version": "3.12.7"
  }
 },
 "nbformat": 4,
 "nbformat_minor": 5
}

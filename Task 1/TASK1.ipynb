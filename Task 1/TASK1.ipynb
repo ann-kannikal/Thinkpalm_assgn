{
 "cells": [
  {
   "cell_type": "markdown",
   "id": "14530e3a-3ceb-4265-97ef-944ed9b4f4ba",
   "metadata": {},
   "source": [
    "TASK 1- Data analysis in Python"
   ]
  },
  {
   "cell_type": "code",
   "execution_count": 1,
   "id": "f5f0b7b5-b99e-4264-a01f-8c6132311a70",
   "metadata": {},
   "outputs": [
    {
     "name": "stdout",
     "output_type": "stream",
     "text": [
      "     Duration  Pulse  Maxpulse  Calories\n",
      "0          60    110       130     409.1\n",
      "1          60    117       145     479.0\n",
      "2          60    103       135     340.0\n",
      "3          45    109       175     282.4\n",
      "4          45    117       148     406.0\n",
      "..        ...    ...       ...       ...\n",
      "164        60    105       140     290.8\n",
      "165        60    110       145     300.0\n",
      "166        60    115       145     310.2\n",
      "167        75    120       150     320.4\n",
      "168        75    125       150     330.4\n",
      "\n",
      "[169 rows x 4 columns]\n"
     ]
    }
   ],
   "source": [
    "# Read in a CSV file called data.csv\n",
    "import pandas as pd\n",
    "sample_data= pd.read_csv(\"C:/Users/ann.k/Documents/Git_assignment/data.txt\")\n",
    "print(sample_data)"
   ]
  },
  {
   "cell_type": "code",
   "execution_count": 2,
   "id": "82a1fd8d-a966-4351-848d-c53d250c1162",
   "metadata": {},
   "outputs": [
    {
     "name": "stdout",
     "output_type": "stream",
     "text": [
      "The average value of pulse is: 107.46\n"
     ]
    }
   ],
   "source": [
    "# Find the average of a specific column. Here, the column 'pulse' is chosen\n",
    "average_pulse= sample_data[\"Pulse\"].mean().round(2)    #rounding the final answer to 2 decimal places\n",
    "print(f\"The average value of pulse is: {average_pulse}\")"
   ]
  },
  {
   "cell_type": "code",
   "execution_count": 3,
   "id": "95a0a94e-5311-4b9b-8a2c-042b5fa5c2fd",
   "metadata": {},
   "outputs": [
    {
     "name": "stdout",
     "output_type": "stream",
     "text": [
      "The maximum value of pulse is: 159\n",
      "The minimum value of pulse is: 80\n"
     ]
    }
   ],
   "source": [
    "# Find the maximum and minimum values of the pulse column\n",
    "max_pulse= sample_data[\"Pulse\"].max()\n",
    "min_pulse= sample_data[\"Pulse\"].min()\n",
    "print(f\"The maximum value of pulse is: {max_pulse}\")\n",
    "print(f\"The minimum value of pulse is: {min_pulse}\")"
   ]
  },
  {
   "cell_type": "code",
   "execution_count": 4,
   "id": "14f2534d-8483-4caa-81b5-fce69213833b",
   "metadata": {},
   "outputs": [
    {
     "name": "stdout",
     "output_type": "stream",
     "text": [
      "   Duration  Pulse  Maxpulse  Calories\n",
      "0        60    110       130     409.1\n",
      "1        60    117       145     479.0\n",
      "2        60    103       135     340.0\n",
      "3        45    109       175     282.4\n",
      "4        45    117       148     406.0\n"
     ]
    }
   ],
   "source": [
    "# Display the top 5 records\n",
    "top_5= print(sample_data.head(5))\n",
    "top5_records= pd.DataFrame(top_5)"
   ]
  },
  {
   "cell_type": "code",
   "execution_count": 5,
   "id": "441276d4-30e3-4c4a-9b3a-db743060f5fc",
   "metadata": {},
   "outputs": [],
   "source": [
    "top5_records.to_csv('output.csv', sep='\\t', index= False, header=True)\n",
    "import csv\n",
    "data={'Average': [107.46], \n",
    "      'Maximum': [159],\n",
    "      'Minimum': [80]\n",
    "     }\n",
    "data_df= pd.DataFrame(data)\n",
    "data_df.to_csv('output.csv',index=False,header=True)"
   ]
  },
  {
   "cell_type": "code",
   "execution_count": null,
   "id": "6032ae9a-0d46-440d-85b8-7ca1afd4f509",
   "metadata": {},
   "outputs": [],
   "source": []
  }
 ],
 "metadata": {
  "kernelspec": {
   "display_name": "Python 3 (ipykernel)",
   "language": "python",
   "name": "python3"
  },
  "language_info": {
   "codemirror_mode": {
    "name": "ipython",
    "version": 3
   },
   "file_extension": ".py",
   "mimetype": "text/x-python",
   "name": "python",
   "nbconvert_exporter": "python",
   "pygments_lexer": "ipython3",
   "version": "3.12.7"
  }
 },
 "nbformat": 4,
 "nbformat_minor": 5
}

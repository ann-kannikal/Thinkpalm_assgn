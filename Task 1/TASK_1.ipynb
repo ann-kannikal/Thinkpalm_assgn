{
 "cells": [
  {
   "cell_type": "markdown",
   "id": "14530e3a-3ceb-4265-97ef-944ed9b4f4ba",
   "metadata": {},
   "source": [
    "TASK 1- Data analysis in Python"
   ]
  },
  {
   "cell_type": "code",
   "execution_count": null,
   "id": "f5f0b7b5-b99e-4264-a01f-8c6132311a70",
   "metadata": {},
   "outputs": [],
   "source": [
    "# Read in a CSV file called data.csv\n",
    "import pandas as pd\n",
    "sample_data= pd.read_csv(\"C:/Users/ann.k/Documents/Git_assignment/data.txt\")\n",
    "print(sample_data)"
   ]
  },
  {
   "cell_type": "code",
   "execution_count": null,
   "id": "82a1fd8d-a966-4351-848d-c53d250c1162",
   "metadata": {},
   "outputs": [],
   "source": [
    "# Find the average of a specific column. Here, the column 'pulse' is chosen\n",
    "average_pulse= sample_data[\"Pulse\"].mean().round(2)    #rounding the final answer to 2 decimal places\n",
    "print(f\"The average value of pulse is: {average_pulse}\")"
   ]
  },
  {
   "cell_type": "code",
   "execution_count": null,
   "id": "95a0a94e-5311-4b9b-8a2c-042b5fa5c2fd",
   "metadata": {},
   "outputs": [],
   "source": [
    "# Find the maximum and minimum values of the pulse column\n",
    "max_pulse= sample_data[\"Pulse\"].max()\n",
    "min_pulse= sample_data[\"Pulse\"].min()\n",
    "print(f\"The maximum value of pulse is: {max_pulse}\")\n",
    "print(f\"The minimum value of pulse is: {min_pulse}\")"
   ]
  },
  {
   "cell_type": "code",
   "execution_count": null,
   "id": "14f2534d-8483-4caa-81b5-fce69213833b",
   "metadata": {},
   "outputs": [],
   "source": [
    "# Display the top 5 records\n",
    "top_5= print(sample_data.head(5))\n",
    "top5_records= pd.DataFrame(top_5)"
   ]
  },
  {
   "cell_type": "code",
   "execution_count": null,
   "id": "441276d4-30e3-4c4a-9b3a-db743060f5fc",
   "metadata": {},
   "outputs": [],
   "source": [
    "top5_records.to_csv('output.csv', sep='\\t', index= False, header=True)\n",
    "import csv\n",
    "data={'Average': [107.46], \n",
    "      'Maximum': [159],\n",
    "      'Minimum': [80]\n",
    "     }\n",
    "data_df= pd.DataFrame(data)\n",
    "data_df.to_csv('output.csv',index=False,header=True)"
   ]
  }
 ],
 "metadata": {
  "kernelspec": {
   "display_name": "Python 3 (ipykernel)",
   "language": "python",
   "name": "python3"
  },
  "language_info": {
   "codemirror_mode": {
    "name": "ipython",
    "version": 3
   },
   "file_extension": ".py",
   "mimetype": "text/x-python",
   "name": "python",
   "nbconvert_exporter": "python",
   "pygments_lexer": "ipython3",
   "version": "3.12.7"
  }
 },
 "nbformat": 4,
 "nbformat_minor": 5
}

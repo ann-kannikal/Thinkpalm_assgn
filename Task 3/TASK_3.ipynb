{
 "cells": [
  {
   "cell_type": "markdown",
   "id": "70a485fb-0712-4296-bda6-1b1522963d51",
   "metadata": {},
   "source": [
    "TASK 3- Object Oriented Programming"
   ]
  },
  {
   "cell_type": "code",
   "execution_count": null,
   "id": "f2832e0b-017a-43de-8d5b-e333ec747fd6",
   "metadata": {},
   "outputs": [],
   "source": [
    "#Create a class called BankAccount with attributes account number, account holder's name, and balance amount. \n",
    "# We give the balance variable a default value of 0\n",
    "\n",
    "class BankAccount:\n",
    "    def __init__(self, account_number, account_holder, balance=0):     # default balance is 0\n",
    "        self.account_number=account_number\n",
    "        self.account_holder= account_holder\n",
    "        self.balance= balance\n",
    "    def deposit(self,amount):\n",
    "        self.balance+= amount\n",
    "        print(f\"The new balance in the account is {self.balance}\")\n",
    "    def withdraw(self, amount):\n",
    "        if self.balance >=amount:\n",
    "            self.balance -= amount\n",
    "            print(f\"New balance is: {self.balance}\")\n",
    "        else:\n",
    "            print(\"Balance is insufficient\")\n",
    "    def display_balance(self):\n",
    "        print(f\"Current balance in account is: {self.balance}\")\n",
    "\n",
    "# Create an instance of the BankAccount class\n",
    "acc1= BankAccount(\"112233\", \"Mariam\", 2000)\n",
    "acc1.display_balance()\n",
    "acc1.deposit(3000)\n",
    "acc1.withdraw(1500)\n",
    "acc1.display_balance()"
   ]
  },
  {
   "cell_type": "code",
   "execution_count": null,
   "id": "3e1ee429-33d3-4ac3-81c3-9c03ec28634b",
   "metadata": {},
   "outputs": [],
   "source": [
    "# Code implementing exception handling using try and accept\n",
    "class InvalidTransaction(Exception):\n",
    "    #Exception for invalid transactions\n",
    "    pass\n",
    "class BankAccount:\n",
    "    def __init__(self, account_number, account_holder, balance=0):     # default balance is 0\n",
    "        self.account_number=account_number\n",
    "        self.account_holder= account_holder\n",
    "        self.balance= balance\n",
    "    def deposit(self,amount):\n",
    "        try:\n",
    "            if amount <=0:\n",
    "                raise InvalidTransaction(\"Deposit should be a positive amount\")\n",
    "            self.balance+= amount\n",
    "            print(f\"The new balance in the account is {self.balance}\")\n",
    "        except InvalidTransaction as e:\n",
    "            print(e)\n",
    "    def withdraw(self, amount):\n",
    "        try:\n",
    "            if amount <= 0:\n",
    "                raise InvalidTransaction('Withdrawal amount must be positive')\n",
    "            if self.balance < amount:\n",
    "                raise InvalidTransaction('Insufficient balance')\n",
    "            self.balance -= amount\n",
    "            print(f'New balance is {self.balance}')\n",
    "        except InvalidTransaction as e:\n",
    "            print(e)\n",
    "    def display_balance(self):\n",
    "        print(f\"Current balance in account is: {self.balance}\")\n",
    "# Example:\n",
    "acc1.withdraw(5000)       #Output says 'Balance is insufficient\""
   ]
  }
 ],
 "metadata": {
  "kernelspec": {
   "display_name": "Python 3 (ipykernel)",
   "language": "python",
   "name": "python3"
  },
  "language_info": {
   "codemirror_mode": {
    "name": "ipython",
    "version": 3
   },
   "file_extension": ".py",
   "mimetype": "text/x-python",
   "name": "python",
   "nbconvert_exporter": "python",
   "pygments_lexer": "ipython3",
   "version": "3.12.7"
  }
 },
 "nbformat": 4,
 "nbformat_minor": 5
}

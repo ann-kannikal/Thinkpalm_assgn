{
 "cells": [
  {
   "cell_type": "markdown",
   "id": "0d44f373-f7ab-4832-abff-7155b5c1d819",
   "metadata": {},
   "source": [
    "TASK 2- API Integration"
   ]
  },
  {
   "cell_type": "code",
   "execution_count": 1,
   "id": "a17c4daa-e36c-4cd8-b8ee-5af459f8e4cd",
   "metadata": {},
   "outputs": [
    {
     "name": "stdout",
     "output_type": "stream",
     "text": [
      "City Name: Kochi\n",
      "Temperature: 29.55°C\n",
      "Weather Condition: overcast clouds\n",
      "City Name: Tokyo\n",
      "Temperature: 6.04°C\n",
      "Weather Condition: moderate rain\n"
     ]
    }
   ],
   "source": [
    "import requests\n",
    "\n",
    "def get_weather(city_name):\n",
    "    api_key = 'ef58f1e5e4d5b394b5d6f9ba222ee347'   # generated from the OpenWeather website\n",
    "    base_url = 'http://api.openweathermap.org/data/2.5/weather'\n",
    "    parameters = {\n",
    "        'q': city_name,\n",
    "        'appid': api_key,\n",
    "        'units': 'metric' # temperature in celcius\n",
    "    }\n",
    "    response = requests.get(base_url, params=parameters)\n",
    "    data = response.json()\n",
    "    \n",
    "    if response.status_code == 200:  # status code=200 means everything was OK and the result has been returned.\n",
    "        city = data['name']\n",
    "        temperature = data['main']['temp']\n",
    "        weather_condition = data['weather'][0]['description']\n",
    "        print(f'City Name: {city}')\n",
    "        print(f'Temperature: {temperature}°C')\n",
    "        print(f'Weather Condition: {weather_condition}')\n",
    "    else:\n",
    "        print('City not found or API request failed.')\n",
    "\n",
    "# Call the function\n",
    "get_weather('Kochi')   #Weather conditions and temperature of Kochi successfully printed\n",
    "get_weather('Tokyo')"
   ]
  },
  {
   "cell_type": "code",
   "execution_count": 2,
   "id": "6c17fbfe-9f40-49cb-bc47-331bbae2e758",
   "metadata": {},
   "outputs": [
    {
     "name": "stdout",
     "output_type": "stream",
     "text": [
      "City Name: Kochi\n",
      "Temperature: 29.55°C\n",
      "Weather Condition: overcast clouds\n",
      "City Name: London\n",
      "Temperature: 7.98°C\n",
      "Weather Condition: few clouds\n"
     ]
    }
   ],
   "source": [
    "# API errors can be handled using try and except blocks. This handles errors that occur during the execution of a program.\n",
    "import requests\n",
    "\n",
    "def get_weather(city_name):\n",
    "    api_key = 'ef58f1e5e4d5b394b5d6f9ba222ee347'  \n",
    "    base_url = 'http://api.openweathermap.org/data/2.5/weather'\n",
    "    parameters = {\n",
    "        'q': city_name,\n",
    "        'appid': api_key,\n",
    "        'units': 'metric'  # Use 'imperial' for Fahrenheit\n",
    "    }\n",
    "# Start a try block    \n",
    "    try:                                          \n",
    "        response = requests.get(base_url, params=parameters)\n",
    "        response.raise_for_status()  # Raise an HTTPError if status_code= 401,402,403,404 or 503\n",
    "        data = response.json()\n",
    "        city = data['name']\n",
    "        temperature = data['main']['temp']\n",
    "        weather_condition = data['weather'][0]['description']\n",
    "        \n",
    "        print(f'City Name: {city}')\n",
    "        print(f'Temperature: {temperature}°C')\n",
    "        print(f'Weather Condition: {weather_condition}')\n",
    "        \n",
    "# If/when the code in the try block throws an error, the program moves to the except block. Here the except block catches some errors like HTTP error,\n",
    "   # connection errors and timeouts\n",
    "    except requests.exceptions.HTTPError as http_err:\n",
    "        print(f'HTTP error occurred: {http_err}')\n",
    "    except requests.exceptions.ConnectionError as conn_err:\n",
    "        print(f'Connection error occurred: {conn_err}')\n",
    "    except requests.exceptions.Timeout as timeout_err:\n",
    "        print(f'Timeout error occurred: {timeout_err}')\n",
    "    except requests.exceptions.RequestException as req_err:\n",
    "        print(f'An error occurred: {req_err}')\n",
    "    except KeyError:                                         #when the expected error is not found in the response\n",
    "        print('Error: Unable to retrieve weather data. Please check the entered details and try again.')\n",
    "\n",
    "# Call the function\n",
    "get_weather(\"Kochi\")\n",
    "get_weather(\"London\")"
   ]
  },
  {
   "cell_type": "code",
   "execution_count": null,
   "id": "5583a44d-2f12-49f1-bee3-95d271499b47",
   "metadata": {},
   "outputs": [],
   "source": []
  }
 ],
 "metadata": {
  "kernelspec": {
   "display_name": "Python 3 (ipykernel)",
   "language": "python",
   "name": "python3"
  },
  "language_info": {
   "codemirror_mode": {
    "name": "ipython",
    "version": 3
   },
   "file_extension": ".py",
   "mimetype": "text/x-python",
   "name": "python",
   "nbconvert_exporter": "python",
   "pygments_lexer": "ipython3",
   "version": "3.12.7"
  }
 },
 "nbformat": 4,
 "nbformat_minor": 5
}
